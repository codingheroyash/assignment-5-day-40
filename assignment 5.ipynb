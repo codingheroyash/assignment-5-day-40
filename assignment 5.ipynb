{
 "cells": [
  {
   "cell_type": "code",
   "execution_count": 2,
   "metadata": {},
   "outputs": [
    {
     "name": "stdout",
     "output_type": "stream",
     "text": [
      "enter celcius = 38\n",
      "100.4\n"
     ]
    }
   ],
   "source": [
    "c = int(input('enter celcius = '))\n",
    "d = (c*1.8) + 32\n",
    "print(d)\n",
    "    "
   ]
  },
  {
   "cell_type": "code",
   "execution_count": 3,
   "metadata": {},
   "outputs": [
    {
     "name": "stdout",
     "output_type": "stream",
     "text": [
      "valid password\n"
     ]
    }
   ],
   "source": [
    "import re\n",
    "j = '#Yash7746'\n",
    "while j:\n",
    "    if not re.search('[a-z]',j):\n",
    "        print('invalid')\n",
    "        break\n",
    "    elif not re.search('[0-9]',j):\n",
    "        print('invalid')\n",
    "        break\n",
    "    elif not re.search('[#$@&*%!^?:]',j):\n",
    "        print('invalid')\n",
    "        break\n",
    "    elif not (len(j)<=16 and len(j)>=6):\n",
    "        print('invalid')\n",
    "    else:\n",
    "        print('valid password')\n",
    "        break"
   ]
  },
  {
   "cell_type": "code",
   "execution_count": 4,
   "metadata": {},
   "outputs": [],
   "source": [
    "c = list(range(2,13))"
   ]
  },
  {
   "cell_type": "code",
   "execution_count": 5,
   "metadata": {},
   "outputs": [
    {
     "name": "stdout",
     "output_type": "stream",
     "text": [
      "[ 2  3  4  5  6  7  8  9 10 11 12]\n"
     ]
    }
   ],
   "source": [
    "import numpy as np\n",
    "d = np.array(c)\n",
    "print(d)"
   ]
  },
  {
   "cell_type": "code",
   "execution_count": 6,
   "metadata": {},
   "outputs": [
    {
     "data": {
      "text/plain": [
       "7.0"
      ]
     },
     "execution_count": 6,
     "metadata": {},
     "output_type": "execute_result"
    }
   ],
   "source": [
    "np.mean(c)"
   ]
  },
  {
   "cell_type": "code",
   "execution_count": 7,
   "metadata": {},
   "outputs": [
    {
     "data": {
      "text/plain": [
       "7.0"
      ]
     },
     "execution_count": 7,
     "metadata": {},
     "output_type": "execute_result"
    }
   ],
   "source": [
    "np.median(c)"
   ]
  },
  {
   "cell_type": "code",
   "execution_count": 8,
   "metadata": {},
   "outputs": [
    {
     "data": {
      "text/plain": [
       "77"
      ]
     },
     "execution_count": 8,
     "metadata": {},
     "output_type": "execute_result"
    }
   ],
   "source": [
    "np.sum(c)"
   ]
  },
  {
   "cell_type": "code",
   "execution_count": 9,
   "metadata": {},
   "outputs": [
    {
     "data": {
      "text/plain": [
       "3.1622776601683795"
      ]
     },
     "execution_count": 9,
     "metadata": {},
     "output_type": "execute_result"
    }
   ],
   "source": [
    "np.std(c)"
   ]
  },
  {
   "cell_type": "code",
   "execution_count": 10,
   "metadata": {},
   "outputs": [],
   "source": [
    "f = np.random.random([10])"
   ]
  },
  {
   "cell_type": "code",
   "execution_count": 11,
   "metadata": {},
   "outputs": [
    {
     "data": {
      "text/plain": [
       "array([0.75014094, 0.40185582, 0.41076754, 0.81643853, 0.41621689,\n",
       "       0.73462039, 0.46045236, 0.52012715, 0.73621455, 0.68281952])"
      ]
     },
     "execution_count": 11,
     "metadata": {},
     "output_type": "execute_result"
    }
   ],
   "source": [
    "f"
   ]
  },
  {
   "cell_type": "code",
   "execution_count": 12,
   "metadata": {},
   "outputs": [],
   "source": [
    "f.sort()"
   ]
  },
  {
   "cell_type": "code",
   "execution_count": 13,
   "metadata": {},
   "outputs": [
    {
     "data": {
      "text/plain": [
       "array([0.40185582, 0.41076754, 0.41621689, 0.46045236, 0.52012715,\n",
       "       0.68281952, 0.73462039, 0.73621455, 0.75014094, 0.81643853])"
      ]
     },
     "execution_count": 13,
     "metadata": {},
     "output_type": "execute_result"
    }
   ],
   "source": [
    "f"
   ]
  },
  {
   "cell_type": "code",
   "execution_count": 14,
   "metadata": {},
   "outputs": [
    {
     "name": "stdout",
     "output_type": "stream",
     "text": [
      "[23 31 86  4 98 58 72 93 44 63]\n"
     ]
    }
   ],
   "source": [
    "from numpy import random\n",
    "g = random.randint(100, size = (10))\n",
    "print(g)"
   ]
  },
  {
   "cell_type": "code",
   "execution_count": 15,
   "metadata": {},
   "outputs": [
    {
     "name": "stdout",
     "output_type": "stream",
     "text": [
      "[[64 86 31  6]\n",
      " [ 2 36 91 59]]\n"
     ]
    }
   ],
   "source": [
    "k = random.randint(100, size = (2,4))\n",
    "print(k)"
   ]
  },
  {
   "cell_type": "code",
   "execution_count": 16,
   "metadata": {},
   "outputs": [
    {
     "data": {
      "text/plain": [
       "57.2"
      ]
     },
     "execution_count": 16,
     "metadata": {},
     "output_type": "execute_result"
    }
   ],
   "source": [
    "np.mean(g)"
   ]
  },
  {
   "cell_type": "code",
   "execution_count": 17,
   "metadata": {},
   "outputs": [
    {
     "data": {
      "text/plain": [
       "60.5"
      ]
     },
     "execution_count": 17,
     "metadata": {},
     "output_type": "execute_result"
    }
   ],
   "source": [
    "np.median(g)"
   ]
  },
  {
   "cell_type": "code",
   "execution_count": 18,
   "metadata": {},
   "outputs": [
    {
     "data": {
      "text/plain": [
       "29.81543224573476"
      ]
     },
     "execution_count": 18,
     "metadata": {},
     "output_type": "execute_result"
    }
   ],
   "source": [
    "np.std(g)"
   ]
  },
  {
   "cell_type": "code",
   "execution_count": 19,
   "metadata": {},
   "outputs": [],
   "source": [
    "# generate a randon 1-D array of 15 numbers with help of random.randint and calculate the std deviation"
   ]
  },
  {
   "cell_type": "code",
   "execution_count": 20,
   "metadata": {},
   "outputs": [
    {
     "name": "stdout",
     "output_type": "stream",
     "text": [
      "[35  6 44 29 18 42  6  8 47  6 43  8 42 21 17]\n"
     ]
    }
   ],
   "source": [
    "v = random.randint(50, size=(15))\n",
    "print(v)"
   ]
  },
  {
   "cell_type": "code",
   "execution_count": 21,
   "metadata": {},
   "outputs": [
    {
     "data": {
      "text/plain": [
       "15.604272919086405"
      ]
     },
     "execution_count": 21,
     "metadata": {},
     "output_type": "execute_result"
    }
   ],
   "source": [
    "np.std(v)"
   ]
  },
  {
   "cell_type": "code",
   "execution_count": 22,
   "metadata": {},
   "outputs": [],
   "source": [
    "# homework: generate a randon 1-D array of 23 numbers with help of random.randint and use aggregate function on it"
   ]
  },
  {
   "cell_type": "code",
   "execution_count": 23,
   "metadata": {},
   "outputs": [
    {
     "name": "stdout",
     "output_type": "stream",
     "text": [
      "[93 58 51 35 81 62 58 55 32 61 21 86 34 62 82 67 99 71 63 36 87 28 25]\n"
     ]
    }
   ],
   "source": [
    "h = random.randint(100, size=(23))\n",
    "print(h)"
   ]
  },
  {
   "cell_type": "code",
   "execution_count": 24,
   "metadata": {},
   "outputs": [
    {
     "data": {
      "text/plain": [
       "22.482507377875343"
      ]
     },
     "execution_count": 24,
     "metadata": {},
     "output_type": "execute_result"
    }
   ],
   "source": [
    "np.std(h)"
   ]
  },
  {
   "cell_type": "code",
   "execution_count": 25,
   "metadata": {},
   "outputs": [
    {
     "data": {
      "text/plain": [
       "58.56521739130435"
      ]
     },
     "execution_count": 25,
     "metadata": {},
     "output_type": "execute_result"
    }
   ],
   "source": [
    "np.mean(h)"
   ]
  },
  {
   "cell_type": "code",
   "execution_count": 26,
   "metadata": {},
   "outputs": [
    {
     "data": {
      "text/plain": [
       "61.0"
      ]
     },
     "execution_count": 26,
     "metadata": {},
     "output_type": "execute_result"
    }
   ],
   "source": [
    "np.median(h)"
   ]
  },
  {
   "cell_type": "code",
   "execution_count": 27,
   "metadata": {},
   "outputs": [
    {
     "data": {
      "text/plain": [
       "1347"
      ]
     },
     "execution_count": 27,
     "metadata": {},
     "output_type": "execute_result"
    }
   ],
   "source": [
    "np.sum(h)"
   ]
  },
  {
   "cell_type": "code",
   "execution_count": 28,
   "metadata": {},
   "outputs": [
    {
     "data": {
      "text/plain": [
       "99"
      ]
     },
     "execution_count": 28,
     "metadata": {},
     "output_type": "execute_result"
    }
   ],
   "source": [
    "np.max(h)"
   ]
  },
  {
   "cell_type": "code",
   "execution_count": 29,
   "metadata": {},
   "outputs": [
    {
     "data": {
      "text/plain": [
       "21"
      ]
     },
     "execution_count": 29,
     "metadata": {},
     "output_type": "execute_result"
    }
   ],
   "source": [
    "np.min(h)"
   ]
  },
  {
   "cell_type": "code",
   "execution_count": 30,
   "metadata": {},
   "outputs": [
    {
     "name": "stdout",
     "output_type": "stream",
     "text": [
      "6\n"
     ]
    }
   ],
   "source": [
    "import numpy as np\n",
    "arr3d = np.array([[[1,2,3],[4,5,6]],[[7,8,9],[10,11,12]]])\n",
    "print(arr3d[0, 1, 2])"
   ]
  },
  {
   "cell_type": "code",
   "execution_count": 31,
   "metadata": {},
   "outputs": [
    {
     "name": "stdout",
     "output_type": "stream",
     "text": [
      "[[1 2 3]\n",
      " [4 5 6]]\n",
      "[[ 7  8  9]\n",
      " [10 11 12]]\n"
     ]
    }
   ],
   "source": [
    "for check in arr3d:\n",
    "    print(check)"
   ]
  },
  {
   "cell_type": "code",
   "execution_count": 32,
   "metadata": {},
   "outputs": [
    {
     "data": {
      "text/plain": [
       "3"
      ]
     },
     "execution_count": 32,
     "metadata": {},
     "output_type": "execute_result"
    }
   ],
   "source": [
    "arr3d.ndim"
   ]
  },
  {
   "cell_type": "code",
   "execution_count": 33,
   "metadata": {},
   "outputs": [
    {
     "data": {
      "text/plain": [
       "12"
      ]
     },
     "execution_count": 33,
     "metadata": {},
     "output_type": "execute_result"
    }
   ],
   "source": [
    "arr3d.size"
   ]
  },
  {
   "cell_type": "code",
   "execution_count": 34,
   "metadata": {},
   "outputs": [
    {
     "data": {
      "text/plain": [
       "12"
      ]
     },
     "execution_count": 34,
     "metadata": {},
     "output_type": "execute_result"
    }
   ],
   "source": [
    "arr3d[-1, -1, -1]"
   ]
  },
  {
   "cell_type": "markdown",
   "metadata": {},
   "source": [
    "# Homework\n",
    "Declare two 2-D array and perform below menioned operations:\n",
    "- addition\n",
    "- Subtraction\n",
    "- Multiplication\n",
    "- Reshape\n",
    "- Flattening of array\n",
    "- Mean, median & std deviation\n",
    "sort"
   ]
  },
  {
   "cell_type": "code",
   "execution_count": 35,
   "metadata": {},
   "outputs": [],
   "source": [
    "ar1 = np.array([[1,2,4,7],[4,2,9,7]])\n",
    "ar2 = np.array([[5,6,3,4],[7,9,2,6]])"
   ]
  },
  {
   "cell_type": "code",
   "execution_count": 36,
   "metadata": {},
   "outputs": [
    {
     "name": "stdout",
     "output_type": "stream",
     "text": [
      "[[ 6  8  7 11]\n",
      " [11 11 11 13]]\n"
     ]
    }
   ],
   "source": [
    "print(ar1 + ar2)"
   ]
  },
  {
   "cell_type": "code",
   "execution_count": 37,
   "metadata": {},
   "outputs": [
    {
     "name": "stdout",
     "output_type": "stream",
     "text": [
      "[[-4 -4  1  3]\n",
      " [-3 -7  7  1]]\n"
     ]
    }
   ],
   "source": [
    "print(ar1-ar2)"
   ]
  },
  {
   "cell_type": "code",
   "execution_count": 38,
   "metadata": {},
   "outputs": [
    {
     "name": "stdout",
     "output_type": "stream",
     "text": [
      "[[ 5 12 12 28]\n",
      " [28 18 18 42]]\n"
     ]
    }
   ],
   "source": [
    "print(ar1*ar2)"
   ]
  },
  {
   "cell_type": "code",
   "execution_count": 39,
   "metadata": {},
   "outputs": [
    {
     "data": {
      "text/plain": [
       "array([[1, 2],\n",
       "       [4, 7],\n",
       "       [4, 2],\n",
       "       [9, 7]])"
      ]
     },
     "execution_count": 39,
     "metadata": {},
     "output_type": "execute_result"
    }
   ],
   "source": [
    "ar1.reshape(4,2)"
   ]
  },
  {
   "cell_type": "code",
   "execution_count": 40,
   "metadata": {},
   "outputs": [
    {
     "data": {
      "text/plain": [
       "array([[5],\n",
       "       [6],\n",
       "       [3],\n",
       "       [4],\n",
       "       [7],\n",
       "       [9],\n",
       "       [2],\n",
       "       [6]])"
      ]
     },
     "execution_count": 40,
     "metadata": {},
     "output_type": "execute_result"
    }
   ],
   "source": [
    "ar2.reshape(8,1)"
   ]
  },
  {
   "cell_type": "code",
   "execution_count": 41,
   "metadata": {},
   "outputs": [
    {
     "data": {
      "text/plain": [
       "array([1, 2, 4, 7, 4, 2, 9, 7])"
      ]
     },
     "execution_count": 41,
     "metadata": {},
     "output_type": "execute_result"
    }
   ],
   "source": [
    "ar1.reshape(-1)"
   ]
  },
  {
   "cell_type": "code",
   "execution_count": 42,
   "metadata": {},
   "outputs": [
    {
     "data": {
      "text/plain": [
       "array([5, 6, 3, 4, 7, 9, 2, 6])"
      ]
     },
     "execution_count": 42,
     "metadata": {},
     "output_type": "execute_result"
    }
   ],
   "source": [
    "ar2.reshape(-1)"
   ]
  },
  {
   "cell_type": "code",
   "execution_count": 43,
   "metadata": {},
   "outputs": [
    {
     "name": "stdout",
     "output_type": "stream",
     "text": [
      "4.5\n"
     ]
    }
   ],
   "source": [
    "print(np.mean(ar1))"
   ]
  },
  {
   "cell_type": "code",
   "execution_count": 44,
   "metadata": {},
   "outputs": [
    {
     "name": "stdout",
     "output_type": "stream",
     "text": [
      "5.25\n"
     ]
    }
   ],
   "source": [
    "print(np.mean(ar2))"
   ]
  },
  {
   "cell_type": "code",
   "execution_count": 45,
   "metadata": {},
   "outputs": [
    {
     "name": "stdout",
     "output_type": "stream",
     "text": [
      "4.0\n"
     ]
    }
   ],
   "source": [
    "print(np.median(ar1))"
   ]
  },
  {
   "cell_type": "code",
   "execution_count": 46,
   "metadata": {},
   "outputs": [
    {
     "name": "stdout",
     "output_type": "stream",
     "text": [
      "5.5\n"
     ]
    }
   ],
   "source": [
    "print(np.median(ar2))"
   ]
  },
  {
   "cell_type": "code",
   "execution_count": 47,
   "metadata": {},
   "outputs": [
    {
     "name": "stdout",
     "output_type": "stream",
     "text": [
      "2.692582403567252\n"
     ]
    }
   ],
   "source": [
    "print(np.std(ar1))"
   ]
  },
  {
   "cell_type": "code",
   "execution_count": 48,
   "metadata": {},
   "outputs": [
    {
     "name": "stdout",
     "output_type": "stream",
     "text": [
      "2.1065374432940898\n"
     ]
    }
   ],
   "source": [
    "print(np.std(ar2))"
   ]
  },
  {
   "cell_type": "code",
   "execution_count": 49,
   "metadata": {},
   "outputs": [
    {
     "name": "stdout",
     "output_type": "stream",
     "text": [
      "[[1 2 4 7]\n",
      " [2 4 7 9]]\n"
     ]
    }
   ],
   "source": [
    "print(np.sort(ar1))"
   ]
  },
  {
   "cell_type": "code",
   "execution_count": 50,
   "metadata": {},
   "outputs": [
    {
     "name": "stdout",
     "output_type": "stream",
     "text": [
      "[[3 4 5 6]\n",
      " [2 6 7 9]]\n"
     ]
    }
   ],
   "source": [
    "print(np.sort(ar2))"
   ]
  },
  {
   "cell_type": "code",
   "execution_count": 1,
   "metadata": {},
   "outputs": [
    {
     "name": "stderr",
     "output_type": "stream",
     "text": [
      "Matplotlib is building the font cache; this may take a moment.\n"
     ]
    },
    {
     "data": {
      "image/png": "[encoded data removed]",
      "text/plain": [
       "<Figure size 432x288 with 1 Axes>"
      ]
     },
     "metadata": {
      "needs_background": "light"
     },
     "output_type": "display_data"
    }
   ],
   "source": [
    "import numpy as np\n",
    "import matplotlib.pyplot as plt\n",
    "N = 5\n",
    "men = (20, 35, 30, 35, 27)\n",
    "women = (25, 32, 34, 20, 25)\n",
    "ind = np.arange(N) # the x locations for the groups\n",
    "width = .5\n",
    "fig = plt.figure()\n",
    "ax = fig.add_axes([0,0,1,1])\n",
    "ax.bar(ind,men, width, color='r')\n",
    "ax.bar(ind,women, width,bottom=men, color='b')\n",
    "ax.set_ylabel('Scores')\n",
    "ax.set_title('Scores by group and gender')\n",
    "ax.legend(labels=['Men', 'Women'])\n",
    "plt.show()\n"
   ]
  },
  {
   "cell_type": "code",
   "execution_count": 1,
   "metadata": {},
   "outputs": [],
   "source": [
    "import pandas as pds"
   ]
  },
  {
   "cell_type": "code",
   "execution_count": 2,
   "metadata": {},
   "outputs": [],
   "source": [
    "x = pds.read_csv(\"IPL Matches 2008-2020.csv\")"
   ]
  },
  {
   "cell_type": "code",
   "execution_count": 3,
   "metadata": {},
   "outputs": [
    {
     "data": {
      "text/html": [
       "<div>\n",
       "<style scoped>\n",
       "    .dataframe tbody tr th:only-of-type {\n",
       "        vertical-align: middle;\n",
       "    }\n",
       "\n",
       "    .dataframe tbody tr th {\n",
       "        vertical-align: top;\n",
       "    }\n",
       "\n",
       "    .dataframe thead th {\n",
       "        text-align: right;\n",
       "    }\n",
       "</style>\n",
       "<table border=\"1\" class=\"dataframe\">\n",
       "  <thead>\n",
       "    <tr style=\"text-align: right;\">\n",
       "      <th></th>\n",
       "      <th>id</th>\n",
       "      <th>city</th>\n",
       "      <th>date</th>\n",
       "      <th>player_of_match</th>\n",
       "      <th>venue</th>\n",
       "      <th>neutral_venue</th>\n",
       "      <th>team1</th>\n",
       "      <th>team2</th>\n",
       "      <th>toss_winner</th>\n",
       "      <th>toss_decision</th>\n",
       "      <th>winner</th>\n",
       "      <th>result</th>\n",
       "      <th>result_margin</th>\n",
       "      <th>eliminator</th>\n",
       "      <th>method</th>\n",
       "      <th>umpire1</th>\n",
       "      <th>umpire2</th>\n",
       "    </tr>\n",
       "  </thead>\n",
       "  <tbody>\n",
       "    <tr>\n",
       "      <th>0</th>\n",
       "      <td>335982</td>\n",
       "      <td>Bangalore</td>\n",
       "      <td>4/18/2008</td>\n",
       "      <td>BB McCullum</td>\n",
       "      <td>M Chinnaswamy Stadium</td>\n",
       "      <td>0</td>\n",
       "      <td>Royal Challengers Bangalore</td>\n",
       "      <td>Kolkata Knight Riders</td>\n",
       "      <td>Royal Challengers Bangalore</td>\n",
       "      <td>field</td>\n",
       "      <td>Kolkata Knight Riders</td>\n",
       "      <td>runs</td>\n",
       "      <td>140.0</td>\n",
       "      <td>N</td>\n",
       "      <td>NaN</td>\n",
       "      <td>Asad Rauf</td>\n",
       "      <td>RE Koertzen</td>\n",
       "    </tr>\n",
       "    <tr>\n",
       "      <th>1</th>\n",
       "      <td>335983</td>\n",
       "      <td>Chandigarh</td>\n",
       "      <td>4/19/2008</td>\n",
       "      <td>MEK Hussey</td>\n",
       "      <td>Punjab Cricket Association Stadium, Mohali</td>\n",
       "      <td>0</td>\n",
       "      <td>Kings XI Punjab</td>\n",
       "      <td>Chennai Super Kings</td>\n",
       "      <td>Chennai Super Kings</td>\n",
       "      <td>bat</td>\n",
       "      <td>Chennai Super Kings</td>\n",
       "      <td>runs</td>\n",
       "      <td>33.0</td>\n",
       "      <td>N</td>\n",
       "      <td>NaN</td>\n",
       "      <td>MR Benson</td>\n",
       "      <td>SL Shastri</td>\n",
       "    </tr>\n",
       "  </tbody>\n",
       "</table>\n",
       "</div>"
      ],
      "text/plain": [
       "       id        city       date player_of_match  \\\n",
       "0  335982   Bangalore  4/18/2008     BB McCullum   \n",
       "1  335983  Chandigarh  4/19/2008      MEK Hussey   \n",
       "\n",
       "                                        venue  neutral_venue  \\\n",
       "0                       M Chinnaswamy Stadium              0   \n",
       "1  Punjab Cricket Association Stadium, Mohali              0   \n",
       "\n",
       "                         team1                  team2  \\\n",
       "0  Royal Challengers Bangalore  Kolkata Knight Riders   \n",
       "1              Kings XI Punjab    Chennai Super Kings   \n",
       "\n",
       "                   toss_winner toss_decision                 winner result  \\\n",
       "0  Royal Challengers Bangalore         field  Kolkata Knight Riders   runs   \n",
       "1          Chennai Super Kings           bat    Chennai Super Kings   runs   \n",
       "\n",
       "   result_margin eliminator method    umpire1      umpire2  \n",
       "0          140.0          N    NaN  Asad Rauf  RE Koertzen  \n",
       "1           33.0          N    NaN  MR Benson   SL Shastri  "
      ]
     },
     "execution_count": 3,
     "metadata": {},
     "output_type": "execute_result"
    }
   ],
   "source": [
    "x.head(2)"
   ]
  },
  {
   "cell_type": "code",
   "execution_count": 4,
   "metadata": {},
   "outputs": [
    {
     "data": {
      "text/html": [
       "<div>\n",
       "<style scoped>\n",
       "    .dataframe tbody tr th:only-of-type {\n",
       "        vertical-align: middle;\n",
       "    }\n",
       "\n",
       "    .dataframe tbody tr th {\n",
       "        vertical-align: top;\n",
       "    }\n",
       "\n",
       "    .dataframe thead th {\n",
       "        text-align: right;\n",
       "    }\n",
       "</style>\n",
       "<table border=\"1\" class=\"dataframe\">\n",
       "  <thead>\n",
       "    <tr style=\"text-align: right;\">\n",
       "      <th></th>\n",
       "      <th>id</th>\n",
       "      <th>neutral_venue</th>\n",
       "      <th>result_margin</th>\n",
       "    </tr>\n",
       "  </thead>\n",
       "  <tbody>\n",
       "    <tr>\n",
       "      <th>count</th>\n",
       "      <td>8.160000e+02</td>\n",
       "      <td>816.000000</td>\n",
       "      <td>799.000000</td>\n",
       "    </tr>\n",
       "    <tr>\n",
       "      <th>mean</th>\n",
       "      <td>7.563496e+05</td>\n",
       "      <td>0.094363</td>\n",
       "      <td>17.321652</td>\n",
       "    </tr>\n",
       "    <tr>\n",
       "      <th>std</th>\n",
       "      <td>3.058943e+05</td>\n",
       "      <td>0.292512</td>\n",
       "      <td>22.068427</td>\n",
       "    </tr>\n",
       "    <tr>\n",
       "      <th>min</th>\n",
       "      <td>3.359820e+05</td>\n",
       "      <td>0.000000</td>\n",
       "      <td>1.000000</td>\n",
       "    </tr>\n",
       "    <tr>\n",
       "      <th>25%</th>\n",
       "      <td>5.012278e+05</td>\n",
       "      <td>0.000000</td>\n",
       "      <td>6.000000</td>\n",
       "    </tr>\n",
       "    <tr>\n",
       "      <th>50%</th>\n",
       "      <td>7.292980e+05</td>\n",
       "      <td>0.000000</td>\n",
       "      <td>8.000000</td>\n",
       "    </tr>\n",
       "    <tr>\n",
       "      <th>75%</th>\n",
       "      <td>1.082626e+06</td>\n",
       "      <td>0.000000</td>\n",
       "      <td>19.500000</td>\n",
       "    </tr>\n",
       "    <tr>\n",
       "      <th>max</th>\n",
       "      <td>1.237181e+06</td>\n",
       "      <td>1.000000</td>\n",
       "      <td>146.000000</td>\n",
       "    </tr>\n",
       "  </tbody>\n",
       "</table>\n",
       "</div>"
      ],
      "text/plain": [
       "                 id  neutral_venue  result_margin\n",
       "count  8.160000e+02     816.000000     799.000000\n",
       "mean   7.563496e+05       0.094363      17.321652\n",
       "std    3.058943e+05       0.292512      22.068427\n",
       "min    3.359820e+05       0.000000       1.000000\n",
       "25%    5.012278e+05       0.000000       6.000000\n",
       "50%    7.292980e+05       0.000000       8.000000\n",
       "75%    1.082626e+06       0.000000      19.500000\n",
       "max    1.237181e+06       1.000000     146.000000"
      ]
     },
     "execution_count": 4,
     "metadata": {},
     "output_type": "execute_result"
    }
   ],
   "source": [
    "x.describe()"
   ]
  },
  {
   "cell_type": "code",
   "execution_count": 5,
   "metadata": {},
   "outputs": [
    {
     "data": {
      "text/plain": [
       "0            Kolkata Knight Riders\n",
       "1              Chennai Super Kings\n",
       "2                 Delhi Daredevils\n",
       "3      Royal Challengers Bangalore\n",
       "4            Kolkata Knight Riders\n",
       "                  ...             \n",
       "811    Royal Challengers Bangalore\n",
       "812                 Mumbai Indians\n",
       "813            Sunrisers Hyderabad\n",
       "814                 Delhi Capitals\n",
       "815                 Mumbai Indians\n",
       "Name: winner, Length: 816, dtype: object"
      ]
     },
     "execution_count": 5,
     "metadata": {},
     "output_type": "execute_result"
    }
   ],
   "source": [
    "y = x[\"winner\"]\n",
    "y"
   ]
  },
  {
   "cell_type": "code",
   "execution_count": 6,
   "metadata": {},
   "outputs": [
    {
     "name": "stdout",
     "output_type": "stream",
     "text": [
      "these are the number of matches every team won in ipl\n"
     ]
    },
    {
     "data": {
      "image/png": "[encoded data removed]",
      "text/plain": [
       "<Figure size 432x288 with 1 Axes>"
      ]
     },
     "metadata": {
      "needs_background": "light"
     },
     "output_type": "display_data"
    }
   ],
   "source": [
    "y.value_counts().plot(kind='barh')\n",
    "print('these are the number of matches every team won in ipl')"
   ]
  },
  {
   "cell_type": "code",
   "execution_count": 27,
   "metadata": {},
   "outputs": [
    {
     "data": {
      "image/png": "[encoded data removed]",
      "text/plain": [
       "<Figure size 432x288 with 1 Axes>"
      ]
     },
     "metadata": {
      "needs_background": "light"
     },
     "output_type": "display_data"
    }
   ],
   "source": [
    "import matplotlib.pyplot as plt\n",
    "import numpy as np\n",
    "fig = plt.figure()\n",
    "ax = fig.add_axes([0,0,1,1])\n",
    "Pokemon_Character = ['Bulbasaur','Ivysaur','Venusaur','VenusaurMega','Charmander','Charizard']\n",
    "HP = [45, 60, 80, 80, 39, 58]\n",
    "Attack = [49, 62, 82, 100, 52, 64, 84]\n",
    "Defense = [49,63, 83, 123, 43, 58, 78]\n",
    "plt.bar(Pokemon_Character, HP, color = 'g')\n",
    "plt.show()"
   ]
  },
  {
   "cell_type": "code",
   "execution_count": 29,
   "metadata": {},
   "outputs": [
    {
     "data": {
      "image/png": "[encoded data removed]",
      "text/plain": [
       "<Figure size 432x288 with 1 Axes>"
      ]
     },
     "metadata": {
      "needs_background": "light"
     },
     "output_type": "display_data"
    }
   ],
   "source": [
    "import matplotlib.pyplot as plt\n",
    "import numpy as np\n",
    "fig = plt.figure()\n",
    "ax = fig.add_axes([0,0,1,1])\n",
    "langs = ['C','C++','Java','Python','PHP']\n",
    "ta = [1,2,3,4,5]\n",
    "students = [24,25,23,21,20]\n",
    "ax.bar(langs, students)\n",
    "ax.set_title('No. of students')\n",
    "ax.set_xlabel('Language')\n",
    "ax.set_ylabel('Students')\n",
    "plt.show()"
   ]
  },
  {
   "cell_type": "code",
   "execution_count": 9,
   "metadata": {},
   "outputs": [
    {
     "data": {
      "text/plain": [
       "['Kolkata Knight Riders',\n",
       " 'Chennai Super Kings',\n",
       " 'Delhi Daredevils',\n",
       " 'Royal Challengers Bangalore',\n",
       " 'Kolkata Knight Riders',\n",
       " 'Rajasthan Royals',\n",
       " 'Delhi Daredevils',\n",
       " 'Chennai Super Kings',\n",
       " 'Rajasthan Royals',\n",
       " 'Kings XI Punjab',\n",
       " 'Rajasthan Royals',\n",
       " 'Chennai Super Kings',\n",
       " 'Deccan Chargers',\n",
       " 'Kings XI Punjab',\n",
       " 'Chennai Super Kings',\n",
       " 'Mumbai Indians',\n",
       " 'Delhi Daredevils',\n",
       " 'Kings XI Punjab',\n",
       " 'Rajasthan Royals',\n",
       " 'Delhi Daredevils',\n",
       " 'Royal Challengers Bangalore',\n",
       " 'Kings XI Punjab',\n",
       " 'Mumbai Indians',\n",
       " 'Rajasthan Royals',\n",
       " 'Kings XI Punjab',\n",
       " 'Deccan Chargers',\n",
       " 'Mumbai Indians',\n",
       " 'Chennai Super Kings',\n",
       " 'Kolkata Knight Riders',\n",
       " 'Rajasthan Royals',\n",
       " 'Mumbai Indians',\n",
       " 'Chennai Super Kings',\n",
       " 'Kolkata Knight Riders',\n",
       " 'Rajasthan Royals',\n",
       " 'Kings XI Punjab',\n",
       " 'Kolkata Knight Riders',\n",
       " 'Mumbai Indians',\n",
       " 'Kings XI Punjab',\n",
       " 'Delhi Daredevils',\n",
       " 'Mumbai Indians',\n",
       " 'Kings XI Punjab',\n",
       " 'Rajasthan Royals',\n",
       " 'Mumbai Indians',\n",
       " 'Chennai Super Kings',\n",
       " 'Delhi Daredevils',\n",
       " 'Rajasthan Royals',\n",
       " 'Kings XI Punjab',\n",
       " 'Royal Challengers Bangalore',\n",
       " 'Kings XI Punjab',\n",
       " 'Delhi Daredevils',\n",
       " 'Rajasthan Royals',\n",
       " 'Royal Challengers Bangalore',\n",
       " 'Kolkata Knight Riders',\n",
       " 'Rajasthan Royals',\n",
       " 'Chennai Super Kings',\n",
       " 'Rajasthan Royals',\n",
       " 'Chennai Super Kings',\n",
       " 'Rajasthan Royals',\n",
       " 'Mumbai Indians',\n",
       " 'Royal Challengers Bangalore',\n",
       " 'Delhi Daredevils',\n",
       " 'Deccan Chargers',\n",
       " 'Chennai Super Kings',\n",
       " 'Kolkata Knight Riders',\n",
       " 'Deccan Chargers',\n",
       " 'Delhi Daredevils',\n",
       " 'Rajasthan Royals',\n",
       " 'Kings XI Punjab',\n",
       " 'Deccan Chargers',\n",
       " 'Delhi Daredevils',\n",
       " 'Kings XI Punjab',\n",
       " 'Deccan Chargers',\n",
       " 'Mumbai Indians',\n",
       " 'Rajasthan Royals',\n",
       " 'Royal Challengers Bangalore',\n",
       " 'Kings XI Punjab',\n",
       " 'Delhi Daredevils',\n",
       " 'Chennai Super Kings',\n",
       " 'Mumbai Indians',\n",
       " 'Royal Challengers Bangalore',\n",
       " 'Rajasthan Royals',\n",
       " 'Chennai Super Kings',\n",
       " 'Kings XI Punjab',\n",
       " 'Royal Challengers Bangalore',\n",
       " 'Chennai Super Kings',\n",
       " 'Rajasthan Royals',\n",
       " 'Delhi Daredevils',\n",
       " 'Deccan Chargers',\n",
       " 'Rajasthan Royals',\n",
       " 'Chennai Super Kings',\n",
       " 'Delhi Daredevils',\n",
       " 'Kings XI Punjab',\n",
       " 'Chennai Super Kings',\n",
       " 'Mumbai Indians',\n",
       " 'Delhi Daredevils',\n",
       " 'Deccan Chargers',\n",
       " 'Royal Challengers Bangalore',\n",
       " 'Mumbai Indians',\n",
       " 'Delhi Daredevils',\n",
       " 'Royal Challengers Bangalore',\n",
       " 'Rajasthan Royals',\n",
       " 'Kings XI Punjab',\n",
       " 'Chennai Super Kings',\n",
       " 'Deccan Chargers',\n",
       " 'Kings XI Punjab',\n",
       " 'Delhi Daredevils',\n",
       " 'Kolkata Knight Riders',\n",
       " 'Royal Challengers Bangalore',\n",
       " 'Kolkata Knight Riders',\n",
       " 'Chennai Super Kings',\n",
       " 'Delhi Daredevils',\n",
       " 'Royal Challengers Bangalore',\n",
       " 'Deccan Chargers',\n",
       " 'Royal Challengers Bangalore',\n",
       " 'Deccan Chargers',\n",
       " 'Kolkata Knight Riders',\n",
       " 'Mumbai Indians',\n",
       " 'Delhi Daredevils',\n",
       " 'Kolkata Knight Riders',\n",
       " 'Deccan Chargers',\n",
       " 'Delhi Daredevils',\n",
       " 'Royal Challengers Bangalore',\n",
       " 'Chennai Super Kings',\n",
       " 'Mumbai Indians',\n",
       " 'Royal Challengers Bangalore',\n",
       " 'Chennai Super Kings',\n",
       " 'Deccan Chargers',\n",
       " 'Rajasthan Royals',\n",
       " 'Royal Challengers Bangalore',\n",
       " 'Deccan Chargers',\n",
       " 'Kings XI Punjab',\n",
       " 'Mumbai Indians',\n",
       " 'Royal Challengers Bangalore',\n",
       " 'Rajasthan Royals',\n",
       " 'Mumbai Indians',\n",
       " 'Rajasthan Royals',\n",
       " 'Kolkata Knight Riders',\n",
       " 'Delhi Daredevils',\n",
       " 'Rajasthan Royals',\n",
       " 'Mumbai Indians',\n",
       " 'Delhi Daredevils',\n",
       " 'Mumbai Indians',\n",
       " 'Chennai Super Kings',\n",
       " 'Delhi Daredevils',\n",
       " 'Kolkata Knight Riders',\n",
       " 'Royal Challengers Bangalore',\n",
       " 'Chennai Super Kings',\n",
       " 'Mumbai Indians',\n",
       " 'Kings XI Punjab',\n",
       " 'Delhi Daredevils',\n",
       " 'Rajasthan Royals',\n",
       " 'Chennai Super Kings',\n",
       " 'Rajasthan Royals',\n",
       " 'Kolkata Knight Riders',\n",
       " 'Deccan Chargers',\n",
       " 'Kings XI Punjab',\n",
       " 'Deccan Chargers',\n",
       " 'Royal Challengers Bangalore',\n",
       " 'Kings XI Punjab',\n",
       " 'Mumbai Indians',\n",
       " 'Deccan Chargers',\n",
       " 'Mumbai Indians',\n",
       " 'Chennai Super Kings',\n",
       " 'Royal Challengers Bangalore',\n",
       " 'Delhi Daredevils',\n",
       " 'Deccan Chargers',\n",
       " 'Mumbai Indians',\n",
       " 'Kolkata Knight Riders',\n",
       " 'Chennai Super Kings',\n",
       " 'Deccan Chargers',\n",
       " 'Kolkata Knight Riders',\n",
       " 'Mumbai Indians',\n",
       " 'Chennai Super Kings',\n",
       " 'Royal Challengers Bangalore',\n",
       " 'Chennai Super Kings',\n",
       " 'Chennai Super Kings',\n",
       " 'Rajasthan Royals',\n",
       " 'Royal Challengers Bangalore',\n",
       " 'Mumbai Indians',\n",
       " 'Pune Warriors',\n",
       " 'Kolkata Knight Riders',\n",
       " 'Rajasthan Royals',\n",
       " 'Mumbai Indians',\n",
       " 'Kings XI Punjab',\n",
       " 'Pune Warriors',\n",
       " 'Deccan Chargers',\n",
       " 'Kolkata Knight Riders',\n",
       " 'Kochi Tuskers Kerala',\n",
       " 'Chennai Super Kings',\n",
       " 'Kings XI Punjab',\n",
       " 'Delhi Daredevils',\n",
       " 'Kolkata Knight Riders',\n",
       " 'Kochi Tuskers Kerala',\n",
       " 'Deccan Chargers',\n",
       " 'Mumbai Indians',\n",
       " 'Kochi Tuskers Kerala',\n",
       " 'Kings XI Punjab',\n",
       " 'Mumbai Indians',\n",
       " 'Royal Challengers Bangalore',\n",
       " 'Delhi Daredevils',\n",
       " 'Mumbai Indians',\n",
       " 'Rajasthan Royals',\n",
       " 'Chennai Super Kings',\n",
       " 'Royal Challengers Bangalore',\n",
       " 'Chennai Super Kings',\n",
       " 'Deccan Chargers',\n",
       " 'Kolkata Knight Riders',\n",
       " 'Rajasthan Royals',\n",
       " 'Royal Challengers Bangalore',\n",
       " 'Delhi Daredevils',\n",
       " 'Kolkata Knight Riders',\n",
       " 'Rajasthan Royals',\n",
       " 'Chennai Super Kings',\n",
       " 'Mumbai Indians',\n",
       " 'Kochi Tuskers Kerala',\n",
       " 'Kolkata Knight Riders',\n",
       " 'Chennai Super Kings',\n",
       " 'Mumbai Indians',\n",
       " 'Kochi Tuskers Kerala',\n",
       " 'Delhi Daredevils',\n",
       " 'Royal Challengers Bangalore',\n",
       " 'Kolkata Knight Riders',\n",
       " 'Mumbai Indians',\n",
       " 'Royal Challengers Bangalore',\n",
       " 'Pune Warriors',\n",
       " 'Chennai Super Kings',\n",
       " 'Pune Warriors',\n",
       " 'Kings XI Punjab',\n",
       " 'Royal Challengers Bangalore',\n",
       " 'Chennai Super Kings',\n",
       " 'Kings XI Punjab',\n",
       " 'Royal Challengers Bangalore',\n",
       " 'Deccan Chargers',\n",
       " 'Kings XI Punjab',\n",
       " 'Kochi Tuskers Kerala',\n",
       " 'Deccan Chargers',\n",
       " 'Kings XI Punjab',\n",
       " 'Chennai Super Kings',\n",
       " 'Kolkata Knight Riders',\n",
       " 'Rajasthan Royals',\n",
       " 'Deccan Chargers',\n",
       " nan,\n",
       " 'Royal Challengers Bangalore',\n",
       " 'Mumbai Indians',\n",
       " 'Chennai Super Kings',\n",
       " 'Mumbai Indians',\n",
       " 'Royal Challengers Bangalore',\n",
       " 'Chennai Super Kings',\n",
       " 'Mumbai Indians',\n",
       " 'Delhi Daredevils',\n",
       " 'Pune Warriors',\n",
       " 'Rajasthan Royals',\n",
       " 'Royal Challengers Bangalore',\n",
       " 'Chennai Super Kings',\n",
       " 'Rajasthan Royals',\n",
       " 'Pune Warriors',\n",
       " 'Mumbai Indians',\n",
       " 'Kolkata Knight Riders',\n",
       " 'Delhi Daredevils',\n",
       " 'Mumbai Indians',\n",
       " 'Chennai Super Kings',\n",
       " 'Kings XI Punjab',\n",
       " 'Kolkata Knight Riders',\n",
       " 'Delhi Daredevils',\n",
       " 'Pune Warriors',\n",
       " 'Kings XI Punjab',\n",
       " 'Rajasthan Royals',\n",
       " 'Delhi Daredevils',\n",
       " 'Rajasthan Royals',\n",
       " 'Royal Challengers Bangalore',\n",
       " 'Kolkata Knight Riders',\n",
       " 'Delhi Daredevils',\n",
       " 'Chennai Super Kings',\n",
       " 'Royal Challengers Bangalore',\n",
       " 'Chennai Super Kings',\n",
       " 'Pune Warriors',\n",
       " 'Kings XI Punjab',\n",
       " 'Kolkata Knight Riders',\n",
       " 'Royal Challengers Bangalore',\n",
       " 'Delhi Daredevils',\n",
       " 'Mumbai Indians',\n",
       " 'Deccan Chargers',\n",
       " 'Delhi Daredevils',\n",
       " 'Kings XI Punjab',\n",
       " 'Kolkata Knight Riders',\n",
       " 'Delhi Daredevils',\n",
       " 'Mumbai Indians',\n",
       " 'Kolkata Knight Riders',\n",
       " 'Deccan Chargers',\n",
       " 'Delhi Daredevils',\n",
       " 'Kings XI Punjab',\n",
       " 'Mumbai Indians',\n",
       " 'Chennai Super Kings',\n",
       " 'Kolkata Knight Riders',\n",
       " 'Rajasthan Royals',\n",
       " 'Mumbai Indians',\n",
       " 'Royal Challengers Bangalore',\n",
       " 'Kolkata Knight Riders',\n",
       " 'Rajasthan Royals',\n",
       " 'Kings XI Punjab',\n",
       " 'Royal Challengers Bangalore',\n",
       " 'Chennai Super Kings',\n",
       " 'Royal Challengers Bangalore',\n",
       " 'Mumbai Indians',\n",
       " 'Chennai Super Kings',\n",
       " 'Rajasthan Royals',\n",
       " 'Kings XI Punjab',\n",
       " 'Mumbai Indians',\n",
       " 'Chennai Super Kings',\n",
       " 'Delhi Daredevils',\n",
       " 'Kolkata Knight Riders',\n",
       " 'Kings XI Punjab',\n",
       " 'Royal Challengers Bangalore',\n",
       " 'Deccan Chargers',\n",
       " 'Delhi Daredevils',\n",
       " 'Kolkata Knight Riders',\n",
       " 'Deccan Chargers',\n",
       " 'Mumbai Indians',\n",
       " 'Kolkata Knight Riders',\n",
       " 'Chennai Super Kings',\n",
       " 'Chennai Super Kings',\n",
       " 'Kolkata Knight Riders',\n",
       " 'Kolkata Knight Riders',\n",
       " 'Royal Challengers Bangalore',\n",
       " 'Sunrisers Hyderabad',\n",
       " 'Rajasthan Royals',\n",
       " 'Mumbai Indians',\n",
       " 'Kings XI Punjab',\n",
       " 'Sunrisers Hyderabad',\n",
       " 'Rajasthan Royals',\n",
       " 'Mumbai Indians',\n",
       " 'Chennai Super Kings',\n",
       " 'Royal Challengers Bangalore',\n",
       " 'Pune Warriors',\n",
       " 'Sunrisers Hyderabad',\n",
       " 'Mumbai Indians',\n",
       " 'Chennai Super Kings',\n",
       " 'Kolkata Knight Riders',\n",
       " 'Rajasthan Royals',\n",
       " 'Pune Warriors',\n",
       " 'Kings XI Punjab',\n",
       " 'Royal Challengers Bangalore',\n",
       " 'Sunrisers Hyderabad',\n",
       " 'Rajasthan Royals',\n",
       " 'Chennai Super Kings',\n",
       " 'Sunrisers Hyderabad',\n",
       " 'Chennai Super Kings',\n",
       " 'Royal Challengers Bangalore',\n",
       " 'Delhi Daredevils',\n",
       " 'Kings XI Punjab',\n",
       " 'Chennai Super Kings',\n",
       " 'Royal Challengers Bangalore',\n",
       " 'Kings XI Punjab',\n",
       " 'Mumbai Indians',\n",
       " 'Chennai Super Kings',\n",
       " 'Kolkata Knight Riders',\n",
       " 'Rajasthan Royals',\n",
       " 'Mumbai Indians',\n",
       " 'Chennai Super Kings',\n",
       " 'Delhi Daredevils',\n",
       " 'Rajasthan Royals',\n",
       " 'Mumbai Indians',\n",
       " 'Chennai Super Kings',\n",
       " 'Sunrisers Hyderabad',\n",
       " 'Delhi Daredevils',\n",
       " 'Chennai Super Kings',\n",
       " 'Royal Challengers Bangalore',\n",
       " 'Kolkata Knight Riders',\n",
       " 'Sunrisers Hyderabad',\n",
       " 'Kings XI Punjab',\n",
       " 'Mumbai Indians',\n",
       " 'Rajasthan Royals',\n",
       " 'Royal Challengers Bangalore',\n",
       " 'Rajasthan Royals',\n",
       " 'Mumbai Indians',\n",
       " 'Chennai Super Kings',\n",
       " 'Rajasthan Royals',\n",
       " 'Kolkata Knight Riders',\n",
       " 'Royal Challengers Bangalore',\n",
       " 'Mumbai Indians',\n",
       " 'Sunrisers Hyderabad',\n",
       " 'Kolkata Knight Riders',\n",
       " 'Rajasthan Royals',\n",
       " 'Kings XI Punjab',\n",
       " 'Mumbai Indians',\n",
       " 'Pune Warriors',\n",
       " 'Chennai Super Kings',\n",
       " 'Mumbai Indians',\n",
       " 'Kings XI Punjab',\n",
       " 'Sunrisers Hyderabad',\n",
       " 'Kings XI Punjab',\n",
       " 'Pune Warriors',\n",
       " 'Royal Challengers Bangalore',\n",
       " 'Sunrisers Hyderabad',\n",
       " 'Chennai Super Kings',\n",
       " 'Rajasthan Royals',\n",
       " 'Mumbai Indians',\n",
       " 'Mumbai Indians',\n",
       " 'Kolkata Knight Riders',\n",
       " 'Royal Challengers Bangalore',\n",
       " 'Kings XI Punjab',\n",
       " 'Rajasthan Royals',\n",
       " 'Royal Challengers Bangalore',\n",
       " 'Delhi Daredevils',\n",
       " 'Kings XI Punjab',\n",
       " 'Chennai Super Kings',\n",
       " 'Kings XI Punjab',\n",
       " 'Chennai Super Kings',\n",
       " 'Kolkata Knight Riders',\n",
       " 'Sunrisers Hyderabad',\n",
       " 'Chennai Super Kings',\n",
       " 'Rajasthan Royals',\n",
       " 'Kings XI Punjab',\n",
       " 'Delhi Daredevils',\n",
       " 'Chennai Super Kings',\n",
       " 'Kings XI Punjab',\n",
       " 'Rajasthan Royals',\n",
       " 'Sunrisers Hyderabad',\n",
       " 'Chennai Super Kings',\n",
       " 'Mumbai Indians',\n",
       " 'Rajasthan Royals',\n",
       " 'Royal Challengers Bangalore',\n",
       " 'Rajasthan Royals',\n",
       " 'Chennai Super Kings',\n",
       " 'Mumbai Indians',\n",
       " 'Kolkata Knight Riders',\n",
       " 'Kings XI Punjab',\n",
       " 'Sunrisers Hyderabad',\n",
       " 'Kings XI Punjab',\n",
       " 'Sunrisers Hyderabad',\n",
       " 'Chennai Super Kings',\n",
       " 'Kolkata Knight Riders',\n",
       " 'Rajasthan Royals',\n",
       " 'Mumbai Indians',\n",
       " 'Chennai Super Kings',\n",
       " 'Royal Challengers Bangalore',\n",
       " 'Kings XI Punjab',\n",
       " 'Kolkata Knight Riders',\n",
       " 'Rajasthan Royals',\n",
       " 'Royal Challengers Bangalore',\n",
       " 'Kolkata Knight Riders',\n",
       " 'Mumbai Indians',\n",
       " 'Kings XI Punjab',\n",
       " 'Sunrisers Hyderabad',\n",
       " 'Kolkata Knight Riders',\n",
       " 'Mumbai Indians',\n",
       " 'Kolkata Knight Riders',\n",
       " 'Sunrisers Hyderabad',\n",
       " 'Mumbai Indians',\n",
       " 'Kings XI Punjab',\n",
       " 'Chennai Super Kings',\n",
       " 'Kolkata Knight Riders',\n",
       " 'Kings XI Punjab',\n",
       " 'Mumbai Indians',\n",
       " 'Kolkata Knight Riders',\n",
       " 'Chennai Super Kings',\n",
       " 'Kings XI Punjab',\n",
       " 'Kolkata Knight Riders',\n",
       " 'Kolkata Knight Riders',\n",
       " 'Chennai Super Kings',\n",
       " 'Rajasthan Royals',\n",
       " 'Chennai Super Kings',\n",
       " 'Royal Challengers Bangalore',\n",
       " 'Rajasthan Royals',\n",
       " 'Kings XI Punjab',\n",
       " 'Sunrisers Hyderabad',\n",
       " 'Rajasthan Royals',\n",
       " 'Kolkata Knight Riders',\n",
       " 'Delhi Daredevils',\n",
       " 'Rajasthan Royals',\n",
       " 'Chennai Super Kings',\n",
       " 'Delhi Daredevils',\n",
       " 'Kolkata Knight Riders',\n",
       " 'Rajasthan Royals',\n",
       " 'Mumbai Indians',\n",
       " 'Kolkata Knight Riders',\n",
       " 'Kings XI Punjab',\n",
       " 'Sunrisers Hyderabad',\n",
       " 'Chennai Super Kings',\n",
       " 'Delhi Daredevils',\n",
       " 'Royal Challengers Bangalore',\n",
       " 'Mumbai Indians',\n",
       " 'Chennai Super Kings',\n",
       " 'Royal Challengers Bangalore',\n",
       " 'Sunrisers Hyderabad',\n",
       " 'Kolkata Knight Riders',\n",
       " nan,\n",
       " 'Chennai Super Kings',\n",
       " 'Delhi Daredevils',\n",
       " 'Mumbai Indians',\n",
       " 'Royal Challengers Bangalore',\n",
       " 'Sunrisers Hyderabad',\n",
       " 'Mumbai Indians',\n",
       " 'Rajasthan Royals',\n",
       " 'Chennai Super Kings',\n",
       " 'Kolkata Knight Riders',\n",
       " 'Mumbai Indians',\n",
       " 'Royal Challengers Bangalore',\n",
       " 'Sunrisers Hyderabad',\n",
       " 'Mumbai Indians',\n",
       " 'Kolkata Knight Riders',\n",
       " 'Sunrisers Hyderabad',\n",
       " 'Royal Challengers Bangalore',\n",
       " 'Chennai Super Kings',\n",
       " 'Sunrisers Hyderabad',\n",
       " 'Delhi Daredevils',\n",
       " 'Kings XI Punjab',\n",
       " 'Mumbai Indians',\n",
       " 'Royal Challengers Bangalore',\n",
       " 'Chennai Super Kings',\n",
       " 'Rajasthan Royals',\n",
       " nan,\n",
       " 'Mumbai Indians',\n",
       " 'Mumbai Indians',\n",
       " 'Royal Challengers Bangalore',\n",
       " 'Chennai Super Kings',\n",
       " 'Mumbai Indians',\n",
       " 'Rising Pune Supergiants',\n",
       " 'Kolkata Knight Riders',\n",
       " 'Gujarat Lions',\n",
       " 'Royal Challengers Bangalore',\n",
       " 'Mumbai Indians',\n",
       " 'Gujarat Lions',\n",
       " 'Delhi Daredevils',\n",
       " 'Kolkata Knight Riders',\n",
       " 'Gujarat Lions',\n",
       " 'Kings XI Punjab',\n",
       " 'Delhi Daredevils',\n",
       " 'Sunrisers Hyderabad',\n",
       " 'Kolkata Knight Riders',\n",
       " 'Mumbai Indians',\n",
       " 'Sunrisers Hyderabad',\n",
       " 'Royal Challengers Bangalore',\n",
       " 'Delhi Daredevils',\n",
       " 'Sunrisers Hyderabad',\n",
       " 'Gujarat Lions',\n",
       " 'Kolkata Knight Riders',\n",
       " 'Mumbai Indians',\n",
       " 'Rising Pune Supergiants',\n",
       " 'Gujarat Lions',\n",
       " 'Mumbai Indians',\n",
       " 'Gujarat Lions',\n",
       " 'Delhi Daredevils',\n",
       " 'Sunrisers Hyderabad',\n",
       " 'Kings XI Punjab',\n",
       " 'Mumbai Indians',\n",
       " 'Kolkata Knight Riders',\n",
       " 'Delhi Daredevils',\n",
       " 'Kolkata Knight Riders',\n",
       " 'Rising Pune Supergiants',\n",
       " 'Sunrisers Hyderabad',\n",
       " 'Royal Challengers Bangalore',\n",
       " 'Kings XI Punjab',\n",
       " 'Sunrisers Hyderabad',\n",
       " 'Gujarat Lions',\n",
       " 'Royal Challengers Bangalore',\n",
       " 'Sunrisers Hyderabad',\n",
       " 'Mumbai Indians',\n",
       " 'Delhi Daredevils',\n",
       " 'Kings XI Punjab',\n",
       " 'Royal Challengers Bangalore',\n",
       " 'Kolkata Knight Riders',\n",
       " 'Sunrisers Hyderabad',\n",
       " 'Mumbai Indians',\n",
       " 'Royal Challengers Bangalore',\n",
       " 'Rising Pune Supergiants',\n",
       " 'Royal Challengers Bangalore',\n",
       " 'Gujarat Lions',\n",
       " 'Delhi Daredevils',\n",
       " 'Rising Pune Supergiants',\n",
       " 'Gujarat Lions',\n",
       " 'Kolkata Knight Riders',\n",
       " 'Royal Challengers Bangalore',\n",
       " 'Royal Challengers Bangalore',\n",
       " 'Sunrisers Hyderabad',\n",
       " 'Sunrisers Hyderabad',\n",
       " 'Sunrisers Hyderabad',\n",
       " 'Sunrisers Hyderabad',\n",
       " 'Rising Pune Supergiant',\n",
       " 'Kolkata Knight Riders',\n",
       " 'Kings XI Punjab',\n",
       " 'Royal Challengers Bangalore',\n",
       " 'Sunrisers Hyderabad',\n",
       " 'Mumbai Indians',\n",
       " 'Kings XI Punjab',\n",
       " 'Delhi Daredevils',\n",
       " 'Mumbai Indians',\n",
       " 'Kolkata Knight Riders',\n",
       " 'Mumbai Indians',\n",
       " 'Gujarat Lions',\n",
       " 'Kolkata Knight Riders',\n",
       " 'Delhi Daredevils',\n",
       " 'Mumbai Indians',\n",
       " 'Rising Pune Supergiant',\n",
       " 'Kolkata Knight Riders',\n",
       " 'Sunrisers Hyderabad',\n",
       " 'Royal Challengers Bangalore',\n",
       " 'Sunrisers Hyderabad',\n",
       " 'Mumbai Indians',\n",
       " 'Gujarat Lions',\n",
       " 'Mumbai Indians',\n",
       " 'Rising Pune Supergiant',\n",
       " 'Kings XI Punjab',\n",
       " 'Kolkata Knight Riders',\n",
       " 'Rising Pune Supergiant',\n",
       " 'Kolkata Knight Riders',\n",
       " 'Gujarat Lions',\n",
       " 'Kolkata Knight Riders',\n",
       " 'Sunrisers Hyderabad',\n",
       " 'Rising Pune Supergiant',\n",
       " 'Mumbai Indians',\n",
       " 'Kings XI Punjab',\n",
       " 'Sunrisers Hyderabad',\n",
       " 'Mumbai Indians',\n",
       " 'Rising Pune Supergiant',\n",
       " 'Delhi Daredevils',\n",
       " 'Rising Pune Supergiant',\n",
       " 'Delhi Daredevils',\n",
       " 'Kings XI Punjab',\n",
       " 'Rising Pune Supergiant',\n",
       " 'Mumbai Indians',\n",
       " 'Kolkata Knight Riders',\n",
       " 'Gujarat Lions',\n",
       " 'Sunrisers Hyderabad',\n",
       " 'Kings XI Punjab',\n",
       " 'Delhi Daredevils',\n",
       " 'Kings XI Punjab',\n",
       " 'Delhi Daredevils',\n",
       " 'Sunrisers Hyderabad',\n",
       " 'Mumbai Indians',\n",
       " 'Rising Pune Supergiant',\n",
       " 'Royal Challengers Bangalore',\n",
       " 'Rising Pune Supergiant',\n",
       " 'Kolkata Knight Riders',\n",
       " 'Mumbai Indians',\n",
       " 'Mumbai Indians',\n",
       " 'Chennai Super Kings',\n",
       " 'Kings XI Punjab',\n",
       " 'Kolkata Knight Riders',\n",
       " 'Sunrisers Hyderabad',\n",
       " 'Chennai Super Kings',\n",
       " 'Rajasthan Royals',\n",
       " 'Sunrisers Hyderabad',\n",
       " 'Royal Challengers Bangalore',\n",
       " 'Delhi Daredevils',\n",
       " 'Sunrisers Hyderabad',\n",
       " 'Rajasthan Royals',\n",
       " 'Kings XI Punjab',\n",
       " 'Kolkata Knight Riders',\n",
       " 'Mumbai Indians',\n",
       " 'Kolkata Knight Riders',\n",
       " 'Kings XI Punjab',\n",
       " 'Chennai Super Kings',\n",
       " 'Kings XI Punjab',\n",
       " 'Royal Challengers Bangalore',\n",
       " 'Chennai Super Kings',\n",
       " 'Rajasthan Royals',\n",
       " 'Kings XI Punjab',\n",
       " 'Sunrisers Hyderabad',\n",
       " 'Chennai Super Kings',\n",
       " 'Sunrisers Hyderabad',\n",
       " 'Delhi Daredevils',\n",
       " 'Mumbai Indians',\n",
       " 'Sunrisers Hyderabad',\n",
       " 'Kolkata Knight Riders',\n",
       " 'Chennai Super Kings',\n",
       " 'Royal Challengers Bangalore',\n",
       " 'Delhi Daredevils',\n",
       " 'Kolkata Knight Riders',\n",
       " 'Mumbai Indians',\n",
       " 'Chennai Super Kings',\n",
       " 'Sunrisers Hyderabad',\n",
       " 'Mumbai Indians',\n",
       " 'Kings XI Punjab',\n",
       " 'Sunrisers Hyderabad',\n",
       " 'Rajasthan Royals',\n",
       " 'Mumbai Indians',\n",
       " 'Sunrisers Hyderabad',\n",
       " 'Rajasthan Royals',\n",
       " 'Kolkata Knight Riders',\n",
       " 'Royal Challengers Bangalore',\n",
       " 'Chennai Super Kings',\n",
       " 'Rajasthan Royals',\n",
       " 'Royal Challengers Bangalore',\n",
       " 'Kolkata Knight Riders',\n",
       " 'Mumbai Indians',\n",
       " 'Royal Challengers Bangalore',\n",
       " 'Delhi Daredevils',\n",
       " 'Rajasthan Royals',\n",
       " 'Kolkata Knight Riders',\n",
       " 'Delhi Daredevils',\n",
       " 'Chennai Super Kings',\n",
       " 'Chennai Super Kings',\n",
       " 'Kolkata Knight Riders',\n",
       " 'Sunrisers Hyderabad',\n",
       " 'Chennai Super Kings',\n",
       " 'Chennai Super Kings',\n",
       " 'Kolkata Knight Riders',\n",
       " 'Delhi Capitals',\n",
       " 'Kings XI Punjab',\n",
       " 'Chennai Super Kings',\n",
       " 'Kolkata Knight Riders',\n",
       " 'Mumbai Indians',\n",
       " 'Sunrisers Hyderabad',\n",
       " 'Kings XI Punjab',\n",
       " 'Delhi Capitals',\n",
       " 'Sunrisers Hyderabad',\n",
       " 'Chennai Super Kings',\n",
       " 'Kings XI Punjab',\n",
       " 'Rajasthan Royals',\n",
       " 'Mumbai Indians',\n",
       " 'Sunrisers Hyderabad',\n",
       " 'Kolkata Knight Riders',\n",
       " 'Chennai Super Kings',\n",
       " 'Mumbai Indians',\n",
       " 'Delhi Capitals',\n",
       " 'Kolkata Knight Riders',\n",
       " 'Kings XI Punjab',\n",
       " 'Chennai Super Kings',\n",
       " 'Mumbai Indians',\n",
       " 'Chennai Super Kings',\n",
       " 'Delhi Capitals',\n",
       " 'Rajasthan Royals',\n",
       " 'Royal Challengers Bangalore',\n",
       " 'Chennai Super Kings',\n",
       " 'Delhi Capitals',\n",
       " 'Mumbai Indians',\n",
       " 'Kings XI Punjab',\n",
       " 'Sunrisers Hyderabad',\n",
       " 'Mumbai Indians',\n",
       " 'Royal Challengers Bangalore',\n",
       " 'Rajasthan Royals',\n",
       " 'Delhi Capitals',\n",
       " 'Sunrisers Hyderabad',\n",
       " 'Royal Challengers Bangalore',\n",
       " 'Delhi Capitals',\n",
       " 'Chennai Super Kings',\n",
       " 'Royal Challengers Bangalore',\n",
       " 'Rajasthan Royals',\n",
       " 'Mumbai Indians',\n",
       " 'Rajasthan Royals',\n",
       " 'Delhi Capitals',\n",
       " 'Kolkata Knight Riders',\n",
       " 'Sunrisers Hyderabad',\n",
       " nan,\n",
       " 'Chennai Super Kings',\n",
       " 'Mumbai Indians',\n",
       " 'Kolkata Knight Riders',\n",
       " 'Delhi Capitals',\n",
       " 'Royal Challengers Bangalore',\n",
       " 'Kings XI Punjab',\n",
       " 'Mumbai Indians',\n",
       " 'Mumbai Indians',\n",
       " 'Delhi Capitals',\n",
       " 'Chennai Super Kings',\n",
       " 'Mumbai Indians',\n",
       " 'Chennai Super Kings',\n",
       " 'Delhi Capitals',\n",
       " 'Royal Challengers Bangalore',\n",
       " 'Sunrisers Hyderabad',\n",
       " 'Rajasthan Royals',\n",
       " 'Kolkata Knight Riders',\n",
       " 'Kings XI Punjab',\n",
       " 'Mumbai Indians',\n",
       " 'Delhi Capitals',\n",
       " 'Kolkata Knight Riders',\n",
       " 'Sunrisers Hyderabad',\n",
       " 'Mumbai Indians',\n",
       " 'Kolkata Knight Riders',\n",
       " 'Delhi Capitals',\n",
       " 'Chennai Super Kings',\n",
       " 'Rajasthan Royals',\n",
       " 'Mumbai Indians',\n",
       " 'Delhi Capitals',\n",
       " 'Kings XI Punjab',\n",
       " 'Mumbai Indians',\n",
       " 'Kolkata Knight Riders',\n",
       " 'Chennai Super Kings',\n",
       " 'Royal Challengers Bangalore',\n",
       " 'Delhi Capitals',\n",
       " 'Sunrisers Hyderabad',\n",
       " 'Kings XI Punjab',\n",
       " 'Sunrisers Hyderabad',\n",
       " 'Delhi Capitals',\n",
       " 'Kings XI Punjab',\n",
       " 'Mumbai Indians',\n",
       " 'Royal Challengers Bangalore',\n",
       " 'Kolkata Knight Riders',\n",
       " 'Sunrisers Hyderabad',\n",
       " 'Royal Challengers Bangalore',\n",
       " 'Mumbai Indians',\n",
       " 'Rajasthan Royals',\n",
       " 'Chennai Super Kings',\n",
       " 'Mumbai Indians',\n",
       " 'Kolkata Knight Riders',\n",
       " 'Kings XI Punjab',\n",
       " 'Sunrisers Hyderabad',\n",
       " 'Rajasthan Royals',\n",
       " 'Royal Challengers Bangalore',\n",
       " 'Mumbai Indians',\n",
       " 'Chennai Super Kings',\n",
       " 'Rajasthan Royals',\n",
       " 'Mumbai Indians',\n",
       " 'Delhi Capitals',\n",
       " 'Royal Challengers Bangalore',\n",
       " 'Rajasthan Royals',\n",
       " 'Sunrisers Hyderabad',\n",
       " 'Delhi Capitals',\n",
       " 'Chennai Super Kings',\n",
       " 'Kolkata Knight Riders',\n",
       " 'Kings XI Punjab',\n",
       " 'Royal Challengers Bangalore',\n",
       " 'Mumbai Indians',\n",
       " 'Sunrisers Hyderabad',\n",
       " 'Delhi Capitals',\n",
       " 'Mumbai Indians']"
      ]
     },
     "execution_count": 9,
     "metadata": {},
     "output_type": "execute_result"
    }
   ],
   "source": [
    "list(y)"
   ]
  },
  {
   "cell_type": "code",
   "execution_count": 13,
   "metadata": {},
   "outputs": [
    {
     "data": {
      "text/plain": [
       "['id',\n",
       " 'city',\n",
       " 'date',\n",
       " 'player_of_match',\n",
       " 'venue',\n",
       " 'neutral_venue',\n",
       " 'team1',\n",
       " 'team2',\n",
       " 'toss_winner',\n",
       " 'toss_decision',\n",
       " 'winner',\n",
       " 'result',\n",
       " 'result_margin',\n",
       " 'eliminator',\n",
       " 'method',\n",
       " 'umpire1',\n",
       " 'umpire2']"
      ]
     },
     "execution_count": 13,
     "metadata": {},
     "output_type": "execute_result"
    }
   ],
   "source": [
    "list(x)"
   ]
  },
  {
   "cell_type": "code",
   "execution_count": 14,
   "metadata": {},
   "outputs": [],
   "source": [
    "import json"
   ]
  },
  {
   "cell_type": "code",
   "execution_count": 19,
   "metadata": {},
   "outputs": [],
   "source": [
    "data = {\"key 1\" : \"value 1\", \"key 2\" : \"value 2\"}"
   ]
  },
  {
   "cell_type": "code",
   "execution_count": 24,
   "metadata": {},
   "outputs": [],
   "source": [
    "f = json.dumps(data)"
   ]
  },
  {
   "cell_type": "code",
   "execution_count": 28,
   "metadata": {},
   "outputs": [
    {
     "data": {
      "text/plain": [
       "'value 2'"
      ]
     },
     "execution_count": 28,
     "metadata": {},
     "output_type": "execute_result"
    }
   ],
   "source": [
    "data['key 2']"
   ]
  },
  {
   "cell_type": "code",
   "execution_count": 30,
   "metadata": {},
   "outputs": [],
   "source": [
    "g = json.loads(f)"
   ]
  },
  {
   "cell_type": "code",
   "execution_count": 52,
   "metadata": {},
   "outputs": [],
   "source": [
    "f = {\"j\" : \"gardhm\", \"c\" : \"lfgeb\"}"
   ]
  },
  {
   "cell_type": "code",
   "execution_count": 53,
   "metadata": {},
   "outputs": [],
   "source": [
    "items = f.items()"
   ]
  },
  {
   "cell_type": "code",
   "execution_count": 54,
   "metadata": {},
   "outputs": [],
   "source": [
    "sorte = sorted(items)"
   ]
  },
  {
   "cell_type": "code",
   "execution_count": 55,
   "metadata": {},
   "outputs": [
    {
     "data": {
      "text/plain": [
       "[('c', 'lfgeb'), ('j', 'gardhm')]"
      ]
     },
     "execution_count": 55,
     "metadata": {},
     "output_type": "execute_result"
    }
   ],
   "source": [
    "sorte"
   ]
  },
  {
   "cell_type": "code",
   "execution_count": 62,
   "metadata": {},
   "outputs": [],
   "source": [
    "sampleJson = {\"company\":{\"employee\":{\"name\":\"emma\",\"payble\":{\"salary\":7000,\"bonus\":800}}}}\n",
    "# write code to print the value of salary"
   ]
  },
  {
   "cell_type": "code",
   "execution_count": 66,
   "metadata": {},
   "outputs": [],
   "source": [
    "samplejson2 = json.dumps(sampleJson)"
   ]
  },
  {
   "cell_type": "code",
   "execution_count": 67,
   "metadata": {},
   "outputs": [],
   "source": [
    "samplejson3 = json.loads(samplejson2)"
   ]
  },
  {
   "cell_type": "code",
   "execution_count": 87,
   "metadata": {},
   "outputs": [
    {
     "data": {
      "text/plain": [
       "7000"
      ]
     },
     "execution_count": 87,
     "metadata": {},
     "output_type": "execute_result"
    }
   ],
   "source": [
    "sampleJson['company']['employee']['payble']['salary']"
   ]
  },
  {
   "cell_type": "code",
   "execution_count": null,
   "metadata": {},
   "outputs": [],
   "source": []
  }
 ],
 "metadata": {
  "kernelspec": {
   "display_name": "Python 3",
   "language": "python",
   "name": "python3"
  },
  "language_info": {
   "codemirror_mode": {
    "name": "ipython",
    "version": 3
   },
   "file_extension": ".py",
   "mimetype": "text/x-python",
   "name": "python",
   "nbconvert_exporter": "python",
   "pygments_lexer": "ipython3",
   "version": "3.8.5"
  }
 },
 "nbformat": 4,
 "nbformat_minor": 4
}
